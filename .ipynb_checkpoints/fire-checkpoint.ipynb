{
 "cells": [
  {
   "cell_type": "code",
   "execution_count": null,
   "metadata": {
    "colab": {},
    "colab_type": "code",
    "id": "qn9DGi7MM_IT"
   },
   "outputs": [],
   "source": [
    "!wget https://github.com/DeepQuestAI/Fire-Smoke-Dataset/releases/download/v1/FIRE-SMOKE-DATASET.zip\n",
    "!unzip FIRE-SMOKE-DATASET.zip"
   ]
  },
  {
   "cell_type": "code",
   "execution_count": null,
   "metadata": {
    "colab": {
     "base_uri": "https://localhost:8080/",
     "height": 105
    },
    "colab_type": "code",
    "id": "djglSf2PNWXO",
    "outputId": "2c373ab2-e924-4ad4-c6f9-9bc5c6eca6de"
   },
   "outputs": [],
   "source": [
    "!pip3 install torchfusion_utils"
   ]
  },
  {
   "cell_type": "code",
   "execution_count": 1,
   "metadata": {
    "colab": {},
    "colab_type": "code",
    "id": "e7X0JLeVNZ_P"
   },
   "outputs": [],
   "source": [
    "from PIL import Image"
   ]
  },
  {
   "cell_type": "code",
   "execution_count": 2,
   "metadata": {
    "colab": {},
    "colab_type": "code",
    "id": "DvdKii8PNalc"
   },
   "outputs": [],
   "source": [
    "from torchfusion_utils.fp16 import convertToFP16\n",
    "from torchfusion_utils.initializers import *\n",
    "from torchfusion_utils.metrics import Accuracy\n",
    "from torchfusion_utils.models import load_model,save_model"
   ]
  },
  {
   "cell_type": "code",
   "execution_count": 3,
   "metadata": {
    "colab": {},
    "colab_type": "code",
    "id": "DvT2TFUrNe8-"
   },
   "outputs": [],
   "source": [
    "import time\n",
    "import torch \n",
    "import torch.nn as nn\n",
    "import torch.nn.functional as F\n",
    "import torchvision\n",
    "from torchvision import datasets, transforms, models\n",
    "import numpy as np\n",
    "import matplotlib.pyplot as plt\n",
    "import matplotlib.pyplot as plt\n",
    "from torch.autograd import Variable"
   ]
  },
  {
   "cell_type": "code",
   "execution_count": 4,
   "metadata": {
    "colab": {},
    "colab_type": "code",
    "id": "Hj4WQRDwNhDT"
   },
   "outputs": [],
   "source": [
    "transforms_train = transforms.Compose([transforms.Resize(225),\n",
    "                                       transforms.CenterCrop(224),\n",
    "                                       transforms.ToTensor(),\n",
    "                                       transforms.Normalize([0.5, 0.5, 0.5],\n",
    "                                                            [0.5, 0.5, 0.5])])\n",
    "\n",
    "transforms_test = transforms.Compose([transforms.Resize(225),\n",
    "                                       transforms.CenterCrop(224),\n",
    "                                       transforms.ToTensor(),\n",
    "                                       transforms.Normalize([0.5, 0.5, 0.5],\n",
    "                                                            [0.5, 0.5, 0.5])])\n",
    "\n",
    "batch_sizes = 64\n",
    "test = './test'\n",
    "train = './train'\n",
    "\n",
    "train_data = datasets.ImageFolder(root=train, transform=transforms_train)\n",
    "test_data = datasets.ImageFolder(root=test, transform=transforms_test)\n",
    "\n",
    "train_data_loader = torch.utils.data.DataLoader(train_data, batch_size=batch_sizes, shuffle=True)\n",
    "test_data_loader = torch.utils.data.DataLoader(test_data, batch_size=batch_sizes, shuffle=True)"
   ]
  },
  {
   "cell_type": "code",
   "execution_count": null,
   "metadata": {},
   "outputs": [],
   "source": []
  },
  {
   "cell_type": "code",
   "execution_count": null,
   "metadata": {
    "colab": {
     "base_uri": "https://localhost:8080/",
     "height": 255
    },
    "colab_type": "code",
    "id": "uGTrOA5gNjgM",
    "outputId": "c80b7e2e-dbde-460d-e02a-c7353f017a26"
   },
   "outputs": [],
   "source": [
    "images, labels = next(iter(train_data_loader))\n",
    "\n",
    "def image_display(image, title=None):\n",
    "    image = image/2 + 0.5\n",
    "    numpy_image = image.numpy()\n",
    "    transposed_numpy_image = np.transpose(numpy_image, (1, 2, 0))\n",
    "    plt.figure(figsize=(20, 4))\n",
    "    plt.imshow(transposed_numpy_image)\n",
    "    plt.yticks([])\n",
    "    plt.xticks([])\n",
    "    if title:\n",
    "        plt.title(title)\n",
    "    plt.show\n",
    "    \n",
    "image_display(torchvision.utils.make_grid(images))"
   ]
  },
  {
   "cell_type": "code",
   "execution_count": null,
   "metadata": {
    "colab": {},
    "colab_type": "code",
    "id": "7bVVWZFuOOGz"
   },
   "outputs": [],
   "source": [
    "ResNet = models.resnet50(num_classes=3)"
   ]
  },
  {
   "cell_type": "code",
   "execution_count": null,
   "metadata": {
    "colab": {},
    "colab_type": "code",
    "id": "CXrB0hSSOXGD"
   },
   "outputs": [],
   "source": [
    "device = torch.device('cuda:0' if torch.cuda.is_available() else 'cpu')"
   ]
  },
  {
   "cell_type": "code",
   "execution_count": null,
   "metadata": {
    "colab": {},
    "colab_type": "code",
    "id": "cR6Jhs5COY23"
   },
   "outputs": [],
   "source": [
    "Model = ResNet \n",
    "Model = Model.to(device)\n",
    "lr = 0.001\n",
    "criteria = nn.CrossEntropyLoss()\n",
    "optimizer = torch.optim.Adam(Model.parameters(), lr=lr)\n",
    "Model,optimizer = convertToFP16(Model, optimizer)\n",
    "milestones = [100, 150]\n",
    "scheduler = torch.optim.lr_scheduler.MultiStepLR(optimizer, milestones, gamma=0.1)"
   ]
  },
  {
   "cell_type": "code",
   "execution_count": null,
   "metadata": {
    "colab": {},
    "colab_type": "code",
    "id": "URfnJrqbOpqe"
   },
   "outputs": [],
   "source": [
    "def model_traing_and_validation_loop(Model, n_epochs, save_path):\n",
    "    \n",
    "    n_epochs = n_epochs\n",
    "    saving_criteria_of_model = 0\n",
    "    training_loss_array = []\n",
    "    validation_loss_array = []\n",
    "    train_acc = Accuracy()\n",
    "    validation_acc = Accuracy(topK=1)\n",
    "\n",
    "    for i in range(n_epochs):\n",
    "\n",
    "        total_test_data = 0\n",
    "        total_train_data = 0\n",
    "        correct_test_data = 0\n",
    "        training_loss = 0\n",
    "        validation_loss = 0\n",
    "        train_acc.reset()\n",
    "\n",
    "        for data, target in train_data_loader:\n",
    "            data, target = data.to(device), target.to(device)\n",
    "            optimizer.zero_grad()\n",
    "            predictions = Model(data)\n",
    "            loss = criteria(predictions, target)\n",
    "            optimizer.backward(loss)\n",
    "            optimizer.step()\n",
    "            training_loss += loss.item()*data.size(0)\n",
    "            train_acc.update(predictions, target)\n",
    "            \n",
    "        scheduler.step()\n",
    "\n",
    "        with torch.no_grad():\n",
    "            \n",
    "            validation_acc.reset()\n",
    "            \n",
    "            for data, target in test_data_loader:\n",
    "\n",
    "                data, target = data.to(device), target.to(device)\n",
    "                predictions = Model(data)\n",
    "                loss = criteria(predictions, target)\n",
    "                validation_acc.update(predictions, target)\n",
    "                total_test_data += target.size(0)\n",
    "                validation_loss += loss.item()*data.size(0)\n",
    "                \n",
    "                \n",
    "        training_loss = training_loss / len(train_data)\n",
    "        validation_loss = validation_loss / total_test_data\n",
    "        training_loss_array.append(training_loss)\n",
    "        validation_loss_array.append(validation_loss)\n",
    "\n",
    "\n",
    "        print(f'{i+1} / {n_epochs} Training loss: {training_loss}, Tran_Accuracy: {train_acc.getValue()}, Validation_loss: {validation_loss}, Validation_Accuracy: {validation_acc.getValue()}')\n",
    "\n",
    "        if saving_criteria_of_model < validation_acc.getValue():\n",
    "\n",
    "            torch.save(Model, save_path)\n",
    "            \n",
    "            saving_criteria_of_model = validation_acc.getValue()\n",
    "            \n",
    "            print('--------------------------Saving Model---------------------------')\n",
    "         \n",
    "        \n",
    "    plt.figure(figsize=(20, 4))\n",
    "        \n",
    "    x_axis = (range(n_epochs))\n",
    "        \n",
    "    plt.plot(x_axis, training_loss_array, 'r', validation_loss_array, 'b')\n",
    "        \n",
    "    plt.title('A gragh of training loss vs validation loss')\n",
    "        \n",
    "    plt.legend(['train loss', 'validation loss'])\n",
    "        \n",
    "    plt.xlabel('Number of Epochs')\n",
    "        \n",
    "    plt.ylabel('Loss')\n",
    "        \n",
    "    return Model\n"
   ]
  },
  {
   "cell_type": "code",
   "execution_count": null,
   "metadata": {
    "colab": {},
    "colab_type": "code",
    "id": "2OZr2A6oPCNB"
   },
   "outputs": [],
   "source": [
    "# Uncomment to retrain the model\n",
    "# n_epochs = 200\n",
    "# model = model_traing_and_validation_loop(Model, n_epochs, 'fire-flame.pt')"
   ]
  },
  {
   "cell_type": "code",
   "execution_count": null,
   "metadata": {
    "colab": {},
    "colab_type": "code",
    "id": "wdAf83fJdhUK"
   },
   "outputs": [],
   "source": [
    "!wget https://github.com/DeepQuestAI/Fire-Smoke-Dataset/releases/download/v1/fire-flame.pt"
   ]
  },
  {
   "cell_type": "code",
   "execution_count": null,
   "metadata": {
    "colab": {},
    "colab_type": "code",
    "id": "fZ2dyeEFPEkp"
   },
   "outputs": [],
   "source": [
    "load_saved_model = torch.load('fire-flame.pt')"
   ]
  },
  {
   "cell_type": "code",
   "execution_count": null,
   "metadata": {
    "colab": {},
    "colab_type": "code",
    "id": "9hAG2gOjPRsH"
   },
   "outputs": [],
   "source": [
    "dummy_input = torch.FloatTensor(1,3,224,224)\n",
    "dummy_input = dummy_input.to(device)"
   ]
  },
  {
   "cell_type": "code",
   "execution_count": null,
   "metadata": {
    "colab": {},
    "colab_type": "code",
    "id": "8pKdBXvyPUPF"
   },
   "outputs": [],
   "source": [
    "torch.onnx.export(load_saved_model, dummy_input, 'fire-flame.onnx')"
   ]
  },
  {
   "cell_type": "code",
   "execution_count": null,
   "metadata": {
    "colab": {},
    "colab_type": "code",
    "id": "ETlrJDhhIOnS"
   },
   "outputs": [],
   "source": [
    "!wget https://github.com/DeepQuestAI/Fire-Smoke-Dataset/releases/download/v1/fire-smoke-neutral-inference-images.zip"
   ]
  },
  {
   "cell_type": "code",
   "execution_count": null,
   "metadata": {
    "colab": {},
    "colab_type": "code",
    "id": "rq55WF4RNQs1"
   },
   "outputs": [],
   "source": [
    "!unzip ./fire-smoke-neutral-inference-images.zip"
   ]
  },
  {
   "cell_type": "code",
   "execution_count": null,
   "metadata": {
    "colab": {},
    "colab_type": "code",
    "id": "mrHHbutPgy3k"
   },
   "outputs": [],
   "source": [
    "img_path = './fire-smoke-neutral-inference-images/smoke/image_19.jpg'"
   ]
  },
  {
   "cell_type": "code",
   "execution_count": null,
   "metadata": {
    "colab": {},
    "colab_type": "code",
    "id": "33j7XV9jvHhG"
   },
   "outputs": [],
   "source": [
    "def inferenceing_function(img_path):\n",
    "    \n",
    "    def image_display(img_path):\n",
    "        \n",
    "        plt.figure(figsize=(30, 6))\n",
    "        plt.imshow(Image.open(img_path))\n",
    "        plt.yticks([])\n",
    "        plt.xticks([])\n",
    "        \n",
    "        plt.show()\n",
    "        return 'Image of:'\n",
    "    \n",
    "    def model_inference_results():\n",
    "\n",
    "        transformer = transforms.Compose([transforms.Resize(225),\n",
    "                                     transforms.CenterCrop(224),\n",
    "                                     transforms.ToTensor(),\n",
    "                                     transforms.Normalize([0.5, 0.5, 0.5],\n",
    "                                                          [0.5, 0.5, 0.5])])\n",
    "        img = Image.open(img_path)\n",
    "        img_processed = transformer(img).unsqueeze(0)\n",
    "        img_var = Variable(img_processed, requires_grad= False)\n",
    "        img_var = img_var.cuda()\n",
    "        load_saved_model.eval()\n",
    "        logp = load_saved_model(img_var)\n",
    "        expp = torch.softmax(logp, dim=1)\n",
    "        confidence, clas = expp.topk(1, dim=1) \n",
    "        \n",
    "        return f'Class: {class_name[clas]}', f'Confidence score: {confidence.item()}'\n",
    "        \n",
    "    \n",
    "    \n",
    "    return (image_display(img_path), *model_inference_results())"
   ]
  },
  {
   "cell_type": "code",
   "execution_count": null,
   "metadata": {
    "colab": {
     "base_uri": "https://localhost:8080/",
     "height": 381
    },
    "colab_type": "code",
    "id": "SruiZBt74kQX",
    "outputId": "b0445aeb-525a-4b4b-de24-dc2389e9b717"
   },
   "outputs": [],
   "source": [
    "inferenceing_function(img_path)"
   ]
  },
  {
   "cell_type": "code",
   "execution_count": null,
   "metadata": {
    "colab": {},
    "colab_type": "code",
    "id": "GIDmc80P5bf8"
   },
   "outputs": [],
   "source": []
  }
 ],
 "metadata": {
  "accelerator": "GPU",
  "colab": {
   "collapsed_sections": [],
   "name": "fire_flame .ipynb",
   "provenance": [],
   "version": "0.3.2"
  },
  "kernelspec": {
   "display_name": "Python 3 (ipykernel)",
   "language": "python",
   "name": "python3"
  },
  "language_info": {
   "codemirror_mode": {
    "name": "ipython",
    "version": 3
   },
   "file_extension": ".py",
   "mimetype": "text/x-python",
   "name": "python",
   "nbconvert_exporter": "python",
   "pygments_lexer": "ipython3",
   "version": "3.10.9"
  }
 },
 "nbformat": 4,
 "nbformat_minor": 1
}
